{
 "cells": [
  {
   "cell_type": "code",
   "execution_count": 1,
   "metadata": {
    "collapsed": true
   },
   "outputs": [],
   "source": [
    "import pandas as pd\n",
    "import numpy as np\n",
    "from gensim.models.word2vec import Word2Vec"
   ]
  },
  {
   "cell_type": "markdown",
   "metadata": {},
   "source": [
    "### Version 1: Fixed input embeddings from Word2Vec"
   ]
  },
  {
   "cell_type": "code",
   "execution_count": 2,
   "metadata": {
    "collapsed": true
   },
   "outputs": [],
   "source": [
    "control_data = pd.read_csv(\"./cleaned_data/control_w_time.csv\", index_col = 0)\n",
    "case_data = pd.read_csv(\"./cleaned_data/case_w_time.csv\", index_col = 0)\n",
    "all_events = pd.read_csv(\"./cleaned_data/events_id_w_time.csv\", index_col = 0)\n",
    "word2vec_model = Word2Vec.load(\"./word2vec_model/w2vmodel_wt\")"
   ]
  },
  {
   "cell_type": "code",
   "execution_count": 3,
   "metadata": {},
   "outputs": [],
   "source": [
    "#construct an input list of arrays with embeddings for each patient\n",
    "control_temp = control_data.groupby(\"SUBJECT_ID\").apply(lambda x: x.EVE_INDEX.values)\n",
    "case_temp = case_data.groupby(\"SUBJECT_ID\").apply(lambda x: x.EVE_INDEX.values)"
   ]
  },
  {
   "cell_type": "code",
   "execution_count": 4,
   "metadata": {},
   "outputs": [],
   "source": [
    "control_patients = control_temp.index.values\n",
    "case_patients = case_temp.index.values\n",
    "all_patients = np.concatenate([control_patients,case_patients])"
   ]
  },
  {
   "cell_type": "code",
   "execution_count": 5,
   "metadata": {},
   "outputs": [],
   "source": [
    "#construct labels\n",
    "Y_control = np.zeros(len(control_patients))\n",
    "Y_case = np.ones(len(case_patients))\n",
    "Y = np.concatenate([Y_control,Y_case])"
   ]
  },
  {
   "cell_type": "code",
   "execution_count": 6,
   "metadata": {},
   "outputs": [],
   "source": [
    "#find maximum number of events\n",
    "c_max = control_data.groupby(\"SUBJECT_ID\")[\"EVE_INDEX\"].count().max()\n",
    "ca_max = case_data.groupby(\"SUBJECT_ID\")[\"EVE_INDEX\"].count().max()\n",
    "max_num_event_patient = np.max([c_max,ca_max])"
   ]
  },
  {
   "cell_type": "code",
   "execution_count": 7,
   "metadata": {},
   "outputs": [
    {
     "name": "stderr",
     "output_type": "stream",
     "text": [
      "Using TensorFlow backend.\n"
     ]
    }
   ],
   "source": [
    "#contruct training set of sequences with paddings, so all the sequence has the same length of max_length, \n",
    "#with 0s padded before in shorter sequences\n",
    "from keras.preprocessing.sequence import pad_sequences\n",
    "\n",
    "X_control = [np.array(events).astype(\"int\") for events in control_temp]\n",
    "X_case = [np.array(events).astype(\"int\") for events in case_temp]\n",
    "X_all = np.concatenate([X_control,X_case])\n",
    "\n",
    "X = pad_sequences(X_all, maxlen=None)"
   ]
  },
  {
   "cell_type": "code",
   "execution_count": 8,
   "metadata": {},
   "outputs": [
    {
     "name": "stdout",
     "output_type": "stream",
     "text": [
      "495\n",
      "(1953, 495)\n",
      "(1953,)\n"
     ]
    }
   ],
   "source": [
    "print X[0].shape[0]\n",
    "print X.shape\n",
    "print Y.shape"
   ]
  },
  {
   "cell_type": "code",
   "execution_count": 17,
   "metadata": {},
   "outputs": [],
   "source": [
    "#shuffle\n",
    "np.random.seed(seed=6)\n",
    "shuffled_index = np.random.permutation(len(all_patients))\n",
    "\n",
    "#split train, dev, test set 7:1:2\n",
    "train_index = shuffled_index[:int(len(all_patients)*0.7)]\n",
    "dev_index =  shuffled_index[int(len(all_patients)*0.7):int(len(all_patients)*0.8)]\n",
    "test_index =  shuffled_index[int(len(all_patients)*0.8):]"
   ]
  },
  {
   "cell_type": "code",
   "execution_count": 18,
   "metadata": {},
   "outputs": [
    {
     "name": "stdout",
     "output_type": "stream",
     "text": [
      "(1953,)\n",
      "(1367,) (195,) (391,)\n"
     ]
    }
   ],
   "source": [
    "print shuffled_index.shape\n",
    "print train_index.shape, dev_index.shape, test_index.shape"
   ]
  },
  {
   "cell_type": "code",
   "execution_count": 19,
   "metadata": {},
   "outputs": [],
   "source": [
    "all_patients_shuffle = all_patients[shuffled_index]\n",
    "\n",
    "Y_train = Y[train_index]\n",
    "Y_dev = Y[dev_index]\n",
    "Y_test = Y[test_index]\n",
    "\n",
    "X_train = X[train_index]\n",
    "X_dev = X[dev_index]\n",
    "X_test = X[test_index]"
   ]
  },
  {
   "cell_type": "code",
   "execution_count": 20,
   "metadata": {},
   "outputs": [],
   "source": [
    "#contruct embedding matrix dim of (number of different events, dim of embedding)\n",
    "num_events = len(all_events)\n",
    "dim_embedding = len(word2vec_model.wv[\"1\"])\n",
    "#adding the dummy row for padding at index \"0\"\n",
    "embedding_matrix = np.zeros((num_events+1, dim_embedding))\n",
    "for i in range(1, num_events+1):\n",
    "    embedding_matrix[i] = word2vec_model.wv[str(i)]"
   ]
  },
  {
   "cell_type": "code",
   "execution_count": 21,
   "metadata": {},
   "outputs": [
    {
     "name": "stdout",
     "output_type": "stream",
     "text": [
      "(4909, 100)\n"
     ]
    }
   ],
   "source": [
    "print embedding_matrix.shape"
   ]
  },
  {
   "cell_type": "code",
   "execution_count": 32,
   "metadata": {},
   "outputs": [],
   "source": [
    "#set up the model\n",
    "from keras.layers import Conv1D, Dense, Input,GlobalMaxPooling1D, concatenate, Embedding,Masking\n",
    "from keras.optimizers import SGD, Adam, rmsprop\n",
    "from keras.models import Model\n",
    "\n",
    "input_events = Input(shape=(max_num_event_patient,))\n",
    "\n",
    "embedding = Embedding(num_events+1, dim_embedding, input_length=max_num_event_patient,trainable=False)(input_events)\n",
    "\n",
    "x_2 = Conv1D(filters = 3, kernel_size = 2,padding = \"valid\", activation='relu')(embedding)\n",
    "x_3 = Conv1D(filters = 3, kernel_size = 3,padding = \"valid\", activation='relu')(embedding)\n",
    "x_4 = Conv1D(filters = 3, kernel_size = 4,padding = \"valid\", activation='relu')(embedding)\n",
    "x_5 = Conv1D(filters = 3, kernel_size = 5,padding = \"valid\", activation='relu')(embedding)\n",
    "\n",
    "pool_2 = GlobalMaxPooling1D()(x_2)\n",
    "pool_3 = GlobalMaxPooling1D()(x_3)\n",
    "pool_4 = GlobalMaxPooling1D()(x_4)\n",
    "pool_5 = GlobalMaxPooling1D()(x_5)\n",
    "\n",
    "patient_embed = concatenate([pool_2, pool_3,pool_4,pool_5])\n",
    "\n",
    "dense1 = Dense(4, activation = \"relu\")(patient_embed)\n",
    "output = Dense(1, activation = \"sigmoid\" )(dense1)\n",
    "\n",
    "model = Model(inputs=input_events, outputs=output)\n",
    "model.compile(optimizer='adam',loss='binary_crossentropy',metrics=['accuracy'])"
   ]
  },
  {
   "cell_type": "code",
   "execution_count": 33,
   "metadata": {},
   "outputs": [
    {
     "name": "stdout",
     "output_type": "stream",
     "text": [
      "Train on 1367 samples, validate on 195 samples\n",
      "Epoch 1/100\n",
      "1367/1367 [==============================] - 5s - loss: 0.6914 - acc: 0.6357 - val_loss: 0.6893 - val_acc: 0.6615\n",
      "Epoch 2/100\n",
      "1367/1367 [==============================] - 4s - loss: 0.6869 - acc: 0.6672 - val_loss: 0.6848 - val_acc: 0.6615\n",
      "Epoch 3/100\n",
      "1367/1367 [==============================] - 4s - loss: 0.6803 - acc: 0.7257 - val_loss: 0.6786 - val_acc: 0.7795\n",
      "Epoch 4/100\n",
      "1367/1367 [==============================] - 5s - loss: 0.6703 - acc: 0.8610 - val_loss: 0.6694 - val_acc: 0.8051\n",
      "Epoch 5/100\n",
      "1367/1367 [==============================] - 4s - loss: 0.6564 - acc: 0.8669 - val_loss: 0.6583 - val_acc: 0.8051\n",
      "Epoch 6/100\n",
      "1367/1367 [==============================] - 4s - loss: 0.6399 - acc: 0.8756 - val_loss: 0.6449 - val_acc: 0.8051\n",
      "Epoch 7/100\n",
      "1367/1367 [==============================] - 4s - loss: 0.6208 - acc: 0.8830 - val_loss: 0.6310 - val_acc: 0.8359\n",
      "Epoch 8/100\n",
      "1367/1367 [==============================] - 4s - loss: 0.6001 - acc: 0.8925 - val_loss: 0.6160 - val_acc: 0.8308\n",
      "Epoch 9/100\n",
      "1367/1367 [==============================] - 4s - loss: 0.5799 - acc: 0.8990 - val_loss: 0.6030 - val_acc: 0.8359\n",
      "Epoch 10/100\n",
      "1367/1367 [==============================] - 5s - loss: 0.5605 - acc: 0.9122 - val_loss: 0.5914 - val_acc: 0.8513\n",
      "Epoch 11/100\n",
      "1367/1367 [==============================] - 4s - loss: 0.5439 - acc: 0.9247 - val_loss: 0.5791 - val_acc: 0.8615\n",
      "Epoch 12/100\n",
      "1367/1367 [==============================] - 4s - loss: 0.5280 - acc: 0.9334 - val_loss: 0.5680 - val_acc: 0.8615\n",
      "Epoch 13/100\n",
      "1367/1367 [==============================] - 4s - loss: 0.5141 - acc: 0.9371 - val_loss: 0.5579 - val_acc: 0.8769\n",
      "Epoch 14/100\n",
      "1367/1367 [==============================] - 4s - loss: 0.5008 - acc: 0.9415 - val_loss: 0.5478 - val_acc: 0.8923\n",
      "Epoch 15/100\n",
      "1367/1367 [==============================] - 4s - loss: 0.4882 - acc: 0.9429 - val_loss: 0.5391 - val_acc: 0.9026\n",
      "Epoch 16/100\n",
      "1367/1367 [==============================] - 4s - loss: 0.4766 - acc: 0.9459 - val_loss: 0.5281 - val_acc: 0.9077\n",
      "Epoch 17/100\n",
      "1367/1367 [==============================] - 4s - loss: 0.4651 - acc: 0.9488 - val_loss: 0.5185 - val_acc: 0.9077\n",
      "Epoch 18/100\n",
      "1367/1367 [==============================] - 4s - loss: 0.4542 - acc: 0.9459 - val_loss: 0.5109 - val_acc: 0.9077\n",
      "Epoch 19/100\n",
      "1367/1367 [==============================] - 4s - loss: 0.4438 - acc: 0.9473 - val_loss: 0.5014 - val_acc: 0.9077\n",
      "Epoch 20/100\n",
      "1367/1367 [==============================] - 4s - loss: 0.4334 - acc: 0.9481 - val_loss: 0.4932 - val_acc: 0.9128\n",
      "Epoch 21/100\n",
      "1367/1367 [==============================] - 4s - loss: 0.4235 - acc: 0.9488 - val_loss: 0.4843 - val_acc: 0.9128\n",
      "Epoch 22/100\n",
      "1367/1367 [==============================] - 5s - loss: 0.4139 - acc: 0.9495 - val_loss: 0.4757 - val_acc: 0.9128\n",
      "Epoch 23/100\n",
      "1367/1367 [==============================] - 4s - loss: 0.4048 - acc: 0.9495 - val_loss: 0.4669 - val_acc: 0.9077\n",
      "Epoch 24/100\n",
      "1367/1367 [==============================] - 4s - loss: 0.3963 - acc: 0.9554 - val_loss: 0.4622 - val_acc: 0.9179\n",
      "Epoch 25/100\n",
      "1367/1367 [==============================] - 4s - loss: 0.3881 - acc: 0.9525 - val_loss: 0.4506 - val_acc: 0.9128\n",
      "Epoch 26/100\n",
      "1367/1367 [==============================] - 4s - loss: 0.3802 - acc: 0.9532 - val_loss: 0.4437 - val_acc: 0.9179\n",
      "Epoch 27/100\n",
      "1367/1367 [==============================] - 5s - loss: 0.3714 - acc: 0.9554 - val_loss: 0.4374 - val_acc: 0.9179\n",
      "Epoch 28/100\n",
      "1367/1367 [==============================] - 4s - loss: 0.3637 - acc: 0.9605 - val_loss: 0.4341 - val_acc: 0.9179\n",
      "Epoch 29/100\n",
      "1367/1367 [==============================] - 4s - loss: 0.3563 - acc: 0.9576 - val_loss: 0.4253 - val_acc: 0.9179\n",
      "Epoch 30/100\n",
      "1367/1367 [==============================] - 4s - loss: 0.3491 - acc: 0.9590 - val_loss: 0.4192 - val_acc: 0.9179\n",
      "Epoch 31/100\n",
      "1367/1367 [==============================] - 4s - loss: 0.3417 - acc: 0.9620 - val_loss: 0.4149 - val_acc: 0.9179\n",
      "Epoch 32/100\n",
      "1367/1367 [==============================] - 4s - loss: 0.3348 - acc: 0.9642 - val_loss: 0.4115 - val_acc: 0.9231\n",
      "Epoch 33/100\n",
      "1367/1367 [==============================] - 4s - loss: 0.3280 - acc: 0.9634 - val_loss: 0.4009 - val_acc: 0.9179\n",
      "Epoch 34/100\n",
      "1367/1367 [==============================] - 5s - loss: 0.3214 - acc: 0.9663 - val_loss: 0.3981 - val_acc: 0.9231\n",
      "Epoch 35/100\n",
      "1367/1367 [==============================] - 4s - loss: 0.3143 - acc: 0.9693 - val_loss: 0.3950 - val_acc: 0.9231\n",
      "Epoch 36/100\n",
      "1367/1367 [==============================] - 4s - loss: 0.3075 - acc: 0.9678 - val_loss: 0.3872 - val_acc: 0.9179\n",
      "Epoch 37/100\n",
      "1367/1367 [==============================] - 4s - loss: 0.3019 - acc: 0.9715 - val_loss: 0.3843 - val_acc: 0.9231\n",
      "Epoch 38/100\n",
      "1367/1367 [==============================] - 4s - loss: 0.2956 - acc: 0.9737 - val_loss: 0.3800 - val_acc: 0.9231\n",
      "Epoch 39/100\n",
      "1367/1367 [==============================] - 4s - loss: 0.2889 - acc: 0.9729 - val_loss: 0.3724 - val_acc: 0.9231\n",
      "Epoch 40/100\n",
      "1367/1367 [==============================] - 4s - loss: 0.2830 - acc: 0.9751 - val_loss: 0.3691 - val_acc: 0.9231\n",
      "Epoch 41/100\n",
      "1367/1367 [==============================] - 4s - loss: 0.2770 - acc: 0.9788 - val_loss: 0.3645 - val_acc: 0.9231\n",
      "Epoch 42/100\n",
      "1367/1367 [==============================] - 4s - loss: 0.2713 - acc: 0.9810 - val_loss: 0.3592 - val_acc: 0.9231\n",
      "Epoch 43/100\n",
      "1367/1367 [==============================] - 5s - loss: 0.2656 - acc: 0.9817 - val_loss: 0.3554 - val_acc: 0.9282\n",
      "Epoch 44/100\n",
      "1367/1367 [==============================] - 4s - loss: 0.2603 - acc: 0.9817 - val_loss: 0.3493 - val_acc: 0.9231\n",
      "Epoch 45/100\n",
      "1367/1367 [==============================] - 4s - loss: 0.2551 - acc: 0.9832 - val_loss: 0.3477 - val_acc: 0.9231\n",
      "Epoch 46/100\n",
      "1367/1367 [==============================] - 5s - loss: 0.2494 - acc: 0.9890 - val_loss: 0.3486 - val_acc: 0.9231\n",
      "Epoch 47/100\n",
      "1367/1367 [==============================] - 4s - loss: 0.2446 - acc: 0.9890 - val_loss: 0.3400 - val_acc: 0.9231\n",
      "Epoch 48/100\n",
      "1367/1367 [==============================] - 4s - loss: 0.2396 - acc: 0.9890 - val_loss: 0.3390 - val_acc: 0.9231\n",
      "Epoch 49/100\n",
      "1367/1367 [==============================] - 4s - loss: 0.2346 - acc: 0.9912 - val_loss: 0.3378 - val_acc: 0.9231\n",
      "Epoch 50/100\n",
      "1367/1367 [==============================] - 4s - loss: 0.2299 - acc: 0.9912 - val_loss: 0.3326 - val_acc: 0.9282\n",
      "Epoch 51/100\n",
      "1367/1367 [==============================] - 4s - loss: 0.2254 - acc: 0.9920 - val_loss: 0.3321 - val_acc: 0.9231\n",
      "Epoch 52/100\n",
      "1367/1367 [==============================] - 4s - loss: 0.2212 - acc: 0.9920 - val_loss: 0.3278 - val_acc: 0.9231\n",
      "Epoch 53/100\n",
      "1367/1367 [==============================] - 5s - loss: 0.2168 - acc: 0.9927 - val_loss: 0.3266 - val_acc: 0.9231\n",
      "Epoch 54/100\n",
      "1367/1367 [==============================] - 4s - loss: 0.2128 - acc: 0.9934 - val_loss: 0.3244 - val_acc: 0.9231\n",
      "Epoch 55/100\n",
      "1367/1367 [==============================] - 4s - loss: 0.2088 - acc: 0.9934 - val_loss: 0.3195 - val_acc: 0.9282\n",
      "Epoch 56/100\n",
      "1367/1367 [==============================] - 4s - loss: 0.2051 - acc: 0.9941 - val_loss: 0.3231 - val_acc: 0.9179\n",
      "Epoch 57/100\n",
      "1367/1367 [==============================] - 4s - loss: 0.2014 - acc: 0.9941 - val_loss: 0.3177 - val_acc: 0.9231\n",
      "Epoch 58/100\n",
      "1367/1367 [==============================] - 4s - loss: 0.1979 - acc: 0.9949 - val_loss: 0.3165 - val_acc: 0.9231\n",
      "Epoch 59/100\n",
      "1367/1367 [==============================] - 4s - loss: 0.1942 - acc: 0.9941 - val_loss: 0.3131 - val_acc: 0.9231\n",
      "Epoch 60/100\n",
      " 704/1367 [==============>...............] - ETA: 2s - loss: 0.1959 - acc: 0.9957"
     ]
    },
    {
     "ename": "KeyboardInterrupt",
     "evalue": "",
     "output_type": "error",
     "traceback": [
      "\u001b[0;31m---------------------------------------------------------------------------\u001b[0m",
      "\u001b[0;31mKeyboardInterrupt\u001b[0m                         Traceback (most recent call last)",
      "\u001b[0;32m<ipython-input-33-7b1f4e7d6f52>\u001b[0m in \u001b[0;36m<module>\u001b[0;34m()\u001b[0m\n\u001b[0;32m----> 1\u001b[0;31m \u001b[0mmodel\u001b[0m\u001b[0;34m.\u001b[0m\u001b[0mfit\u001b[0m\u001b[0;34m(\u001b[0m\u001b[0mX_train\u001b[0m\u001b[0;34m,\u001b[0m\u001b[0mY_train\u001b[0m\u001b[0;34m,\u001b[0m \u001b[0mepochs\u001b[0m\u001b[0;34m=\u001b[0m\u001b[0;36m100\u001b[0m\u001b[0;34m,\u001b[0m\u001b[0mbatch_size\u001b[0m \u001b[0;34m=\u001b[0m\u001b[0;36m64\u001b[0m\u001b[0;34m,\u001b[0m\u001b[0mshuffle\u001b[0m\u001b[0;34m=\u001b[0m\u001b[0mTrue\u001b[0m\u001b[0;34m,\u001b[0m\u001b[0mvalidation_data\u001b[0m\u001b[0;34m=\u001b[0m\u001b[0;34m(\u001b[0m\u001b[0mX_dev\u001b[0m\u001b[0;34m,\u001b[0m \u001b[0mY_dev\u001b[0m\u001b[0;34m)\u001b[0m\u001b[0;34m)\u001b[0m\u001b[0;34m\u001b[0m\u001b[0m\n\u001b[0m",
      "\u001b[0;32m/Users/yichenshen/anaconda/lib/python2.7/site-packages/keras/engine/training.pyc\u001b[0m in \u001b[0;36mfit\u001b[0;34m(self, x, y, batch_size, epochs, verbose, callbacks, validation_split, validation_data, shuffle, class_weight, sample_weight, initial_epoch, **kwargs)\u001b[0m\n\u001b[1;32m   1483\u001b[0m                               \u001b[0mval_f\u001b[0m\u001b[0;34m=\u001b[0m\u001b[0mval_f\u001b[0m\u001b[0;34m,\u001b[0m \u001b[0mval_ins\u001b[0m\u001b[0;34m=\u001b[0m\u001b[0mval_ins\u001b[0m\u001b[0;34m,\u001b[0m \u001b[0mshuffle\u001b[0m\u001b[0;34m=\u001b[0m\u001b[0mshuffle\u001b[0m\u001b[0;34m,\u001b[0m\u001b[0;34m\u001b[0m\u001b[0m\n\u001b[1;32m   1484\u001b[0m                               \u001b[0mcallback_metrics\u001b[0m\u001b[0;34m=\u001b[0m\u001b[0mcallback_metrics\u001b[0m\u001b[0;34m,\u001b[0m\u001b[0;34m\u001b[0m\u001b[0m\n\u001b[0;32m-> 1485\u001b[0;31m                               initial_epoch=initial_epoch)\n\u001b[0m\u001b[1;32m   1486\u001b[0m \u001b[0;34m\u001b[0m\u001b[0m\n\u001b[1;32m   1487\u001b[0m     \u001b[0;32mdef\u001b[0m \u001b[0mevaluate\u001b[0m\u001b[0;34m(\u001b[0m\u001b[0mself\u001b[0m\u001b[0;34m,\u001b[0m \u001b[0mx\u001b[0m\u001b[0;34m,\u001b[0m \u001b[0my\u001b[0m\u001b[0;34m,\u001b[0m \u001b[0mbatch_size\u001b[0m\u001b[0;34m=\u001b[0m\u001b[0;36m32\u001b[0m\u001b[0;34m,\u001b[0m \u001b[0mverbose\u001b[0m\u001b[0;34m=\u001b[0m\u001b[0;36m1\u001b[0m\u001b[0;34m,\u001b[0m \u001b[0msample_weight\u001b[0m\u001b[0;34m=\u001b[0m\u001b[0mNone\u001b[0m\u001b[0;34m)\u001b[0m\u001b[0;34m:\u001b[0m\u001b[0;34m\u001b[0m\u001b[0m\n",
      "\u001b[0;32m/Users/yichenshen/anaconda/lib/python2.7/site-packages/keras/engine/training.pyc\u001b[0m in \u001b[0;36m_fit_loop\u001b[0;34m(self, f, ins, out_labels, batch_size, epochs, verbose, callbacks, val_f, val_ins, shuffle, callback_metrics, initial_epoch)\u001b[0m\n\u001b[1;32m   1138\u001b[0m                 \u001b[0mbatch_logs\u001b[0m\u001b[0;34m[\u001b[0m\u001b[0;34m'size'\u001b[0m\u001b[0;34m]\u001b[0m \u001b[0;34m=\u001b[0m \u001b[0mlen\u001b[0m\u001b[0;34m(\u001b[0m\u001b[0mbatch_ids\u001b[0m\u001b[0;34m)\u001b[0m\u001b[0;34m\u001b[0m\u001b[0m\n\u001b[1;32m   1139\u001b[0m                 \u001b[0mcallbacks\u001b[0m\u001b[0;34m.\u001b[0m\u001b[0mon_batch_begin\u001b[0m\u001b[0;34m(\u001b[0m\u001b[0mbatch_index\u001b[0m\u001b[0;34m,\u001b[0m \u001b[0mbatch_logs\u001b[0m\u001b[0;34m)\u001b[0m\u001b[0;34m\u001b[0m\u001b[0m\n\u001b[0;32m-> 1140\u001b[0;31m                 \u001b[0mouts\u001b[0m \u001b[0;34m=\u001b[0m \u001b[0mf\u001b[0m\u001b[0;34m(\u001b[0m\u001b[0mins_batch\u001b[0m\u001b[0;34m)\u001b[0m\u001b[0;34m\u001b[0m\u001b[0m\n\u001b[0m\u001b[1;32m   1141\u001b[0m                 \u001b[0;32mif\u001b[0m \u001b[0;32mnot\u001b[0m \u001b[0misinstance\u001b[0m\u001b[0;34m(\u001b[0m\u001b[0mouts\u001b[0m\u001b[0;34m,\u001b[0m \u001b[0mlist\u001b[0m\u001b[0;34m)\u001b[0m\u001b[0;34m:\u001b[0m\u001b[0;34m\u001b[0m\u001b[0m\n\u001b[1;32m   1142\u001b[0m                     \u001b[0mouts\u001b[0m \u001b[0;34m=\u001b[0m \u001b[0;34m[\u001b[0m\u001b[0mouts\u001b[0m\u001b[0;34m]\u001b[0m\u001b[0;34m\u001b[0m\u001b[0m\n",
      "\u001b[0;32m/Users/yichenshen/anaconda/lib/python2.7/site-packages/keras/backend/tensorflow_backend.pyc\u001b[0m in \u001b[0;36m__call__\u001b[0;34m(self, inputs)\u001b[0m\n\u001b[1;32m   2073\u001b[0m         \u001b[0msession\u001b[0m \u001b[0;34m=\u001b[0m \u001b[0mget_session\u001b[0m\u001b[0;34m(\u001b[0m\u001b[0;34m)\u001b[0m\u001b[0;34m\u001b[0m\u001b[0m\n\u001b[1;32m   2074\u001b[0m         updated = session.run(self.outputs + [self.updates_op],\n\u001b[0;32m-> 2075\u001b[0;31m                               feed_dict=feed_dict)\n\u001b[0m\u001b[1;32m   2076\u001b[0m         \u001b[0;32mreturn\u001b[0m \u001b[0mupdated\u001b[0m\u001b[0;34m[\u001b[0m\u001b[0;34m:\u001b[0m\u001b[0mlen\u001b[0m\u001b[0;34m(\u001b[0m\u001b[0mself\u001b[0m\u001b[0;34m.\u001b[0m\u001b[0moutputs\u001b[0m\u001b[0;34m)\u001b[0m\u001b[0;34m]\u001b[0m\u001b[0;34m\u001b[0m\u001b[0m\n\u001b[1;32m   2077\u001b[0m \u001b[0;34m\u001b[0m\u001b[0m\n",
      "\u001b[0;32m/Users/yichenshen/anaconda/lib/python2.7/site-packages/tensorflow/python/client/session.pyc\u001b[0m in \u001b[0;36mrun\u001b[0;34m(self, fetches, feed_dict, options, run_metadata)\u001b[0m\n\u001b[1;32m    765\u001b[0m     \u001b[0;32mtry\u001b[0m\u001b[0;34m:\u001b[0m\u001b[0;34m\u001b[0m\u001b[0m\n\u001b[1;32m    766\u001b[0m       result = self._run(None, fetches, feed_dict, options_ptr,\n\u001b[0;32m--> 767\u001b[0;31m                          run_metadata_ptr)\n\u001b[0m\u001b[1;32m    768\u001b[0m       \u001b[0;32mif\u001b[0m \u001b[0mrun_metadata\u001b[0m\u001b[0;34m:\u001b[0m\u001b[0;34m\u001b[0m\u001b[0m\n\u001b[1;32m    769\u001b[0m         \u001b[0mproto_data\u001b[0m \u001b[0;34m=\u001b[0m \u001b[0mtf_session\u001b[0m\u001b[0;34m.\u001b[0m\u001b[0mTF_GetBuffer\u001b[0m\u001b[0;34m(\u001b[0m\u001b[0mrun_metadata_ptr\u001b[0m\u001b[0;34m)\u001b[0m\u001b[0;34m\u001b[0m\u001b[0m\n",
      "\u001b[0;32m/Users/yichenshen/anaconda/lib/python2.7/site-packages/tensorflow/python/client/session.pyc\u001b[0m in \u001b[0;36m_run\u001b[0;34m(self, handle, fetches, feed_dict, options, run_metadata)\u001b[0m\n\u001b[1;32m    963\u001b[0m     \u001b[0;32mif\u001b[0m \u001b[0mfinal_fetches\u001b[0m \u001b[0;32mor\u001b[0m \u001b[0mfinal_targets\u001b[0m\u001b[0;34m:\u001b[0m\u001b[0;34m\u001b[0m\u001b[0m\n\u001b[1;32m    964\u001b[0m       results = self._do_run(handle, final_targets, final_fetches,\n\u001b[0;32m--> 965\u001b[0;31m                              feed_dict_string, options, run_metadata)\n\u001b[0m\u001b[1;32m    966\u001b[0m     \u001b[0;32melse\u001b[0m\u001b[0;34m:\u001b[0m\u001b[0;34m\u001b[0m\u001b[0m\n\u001b[1;32m    967\u001b[0m       \u001b[0mresults\u001b[0m \u001b[0;34m=\u001b[0m \u001b[0;34m[\u001b[0m\u001b[0;34m]\u001b[0m\u001b[0;34m\u001b[0m\u001b[0m\n",
      "\u001b[0;32m/Users/yichenshen/anaconda/lib/python2.7/site-packages/tensorflow/python/client/session.pyc\u001b[0m in \u001b[0;36m_do_run\u001b[0;34m(self, handle, target_list, fetch_list, feed_dict, options, run_metadata)\u001b[0m\n\u001b[1;32m   1013\u001b[0m     \u001b[0;32mif\u001b[0m \u001b[0mhandle\u001b[0m \u001b[0;32mis\u001b[0m \u001b[0mNone\u001b[0m\u001b[0;34m:\u001b[0m\u001b[0;34m\u001b[0m\u001b[0m\n\u001b[1;32m   1014\u001b[0m       return self._do_call(_run_fn, self._session, feed_dict, fetch_list,\n\u001b[0;32m-> 1015\u001b[0;31m                            target_list, options, run_metadata)\n\u001b[0m\u001b[1;32m   1016\u001b[0m     \u001b[0;32melse\u001b[0m\u001b[0;34m:\u001b[0m\u001b[0;34m\u001b[0m\u001b[0m\n\u001b[1;32m   1017\u001b[0m       return self._do_call(_prun_fn, self._session, handle, feed_dict,\n",
      "\u001b[0;32m/Users/yichenshen/anaconda/lib/python2.7/site-packages/tensorflow/python/client/session.pyc\u001b[0m in \u001b[0;36m_do_call\u001b[0;34m(self, fn, *args)\u001b[0m\n\u001b[1;32m   1020\u001b[0m   \u001b[0;32mdef\u001b[0m \u001b[0m_do_call\u001b[0m\u001b[0;34m(\u001b[0m\u001b[0mself\u001b[0m\u001b[0;34m,\u001b[0m \u001b[0mfn\u001b[0m\u001b[0;34m,\u001b[0m \u001b[0;34m*\u001b[0m\u001b[0margs\u001b[0m\u001b[0;34m)\u001b[0m\u001b[0;34m:\u001b[0m\u001b[0;34m\u001b[0m\u001b[0m\n\u001b[1;32m   1021\u001b[0m     \u001b[0;32mtry\u001b[0m\u001b[0;34m:\u001b[0m\u001b[0;34m\u001b[0m\u001b[0m\n\u001b[0;32m-> 1022\u001b[0;31m       \u001b[0;32mreturn\u001b[0m \u001b[0mfn\u001b[0m\u001b[0;34m(\u001b[0m\u001b[0;34m*\u001b[0m\u001b[0margs\u001b[0m\u001b[0;34m)\u001b[0m\u001b[0;34m\u001b[0m\u001b[0m\n\u001b[0m\u001b[1;32m   1023\u001b[0m     \u001b[0;32mexcept\u001b[0m \u001b[0merrors\u001b[0m\u001b[0;34m.\u001b[0m\u001b[0mOpError\u001b[0m \u001b[0;32mas\u001b[0m \u001b[0me\u001b[0m\u001b[0;34m:\u001b[0m\u001b[0;34m\u001b[0m\u001b[0m\n\u001b[1;32m   1024\u001b[0m       \u001b[0mmessage\u001b[0m \u001b[0;34m=\u001b[0m \u001b[0mcompat\u001b[0m\u001b[0;34m.\u001b[0m\u001b[0mas_text\u001b[0m\u001b[0;34m(\u001b[0m\u001b[0me\u001b[0m\u001b[0;34m.\u001b[0m\u001b[0mmessage\u001b[0m\u001b[0;34m)\u001b[0m\u001b[0;34m\u001b[0m\u001b[0m\n",
      "\u001b[0;32m/Users/yichenshen/anaconda/lib/python2.7/site-packages/tensorflow/python/client/session.pyc\u001b[0m in \u001b[0;36m_run_fn\u001b[0;34m(session, feed_dict, fetch_list, target_list, options, run_metadata)\u001b[0m\n\u001b[1;32m   1002\u001b[0m         return tf_session.TF_Run(session, options,\n\u001b[1;32m   1003\u001b[0m                                  \u001b[0mfeed_dict\u001b[0m\u001b[0;34m,\u001b[0m \u001b[0mfetch_list\u001b[0m\u001b[0;34m,\u001b[0m \u001b[0mtarget_list\u001b[0m\u001b[0;34m,\u001b[0m\u001b[0;34m\u001b[0m\u001b[0m\n\u001b[0;32m-> 1004\u001b[0;31m                                  status, run_metadata)\n\u001b[0m\u001b[1;32m   1005\u001b[0m \u001b[0;34m\u001b[0m\u001b[0m\n\u001b[1;32m   1006\u001b[0m     \u001b[0;32mdef\u001b[0m \u001b[0m_prun_fn\u001b[0m\u001b[0;34m(\u001b[0m\u001b[0msession\u001b[0m\u001b[0;34m,\u001b[0m \u001b[0mhandle\u001b[0m\u001b[0;34m,\u001b[0m \u001b[0mfeed_dict\u001b[0m\u001b[0;34m,\u001b[0m \u001b[0mfetch_list\u001b[0m\u001b[0;34m)\u001b[0m\u001b[0;34m:\u001b[0m\u001b[0;34m\u001b[0m\u001b[0m\n",
      "\u001b[0;31mKeyboardInterrupt\u001b[0m: "
     ]
    }
   ],
   "source": [
    "model.fit(X_train,Y_train, epochs=100,batch_size =64,shuffle=True,validation_data=(X_dev, Y_dev))"
   ]
  },
  {
   "cell_type": "code",
   "execution_count": 34,
   "metadata": {},
   "outputs": [
    {
     "name": "stdout",
     "output_type": "stream",
     "text": [
      "384/391 [============================>.] - ETA: 0s"
     ]
    },
    {
     "data": {
      "text/plain": [
       "[0.28035629748383445, 0.94629156010230175]"
      ]
     },
     "execution_count": 34,
     "metadata": {},
     "output_type": "execute_result"
    }
   ],
   "source": [
    "model.evaluate(X_test, Y_test)"
   ]
  },
  {
   "cell_type": "code",
   "execution_count": null,
   "metadata": {
    "collapsed": true
   },
   "outputs": [],
   "source": []
  }
 ],
 "metadata": {
  "kernelspec": {
   "display_name": "Python 2",
   "language": "python",
   "name": "python2"
  },
  "language_info": {
   "codemirror_mode": {
    "name": "ipython",
    "version": 2
   },
   "file_extension": ".py",
   "mimetype": "text/x-python",
   "name": "python",
   "nbconvert_exporter": "python",
   "pygments_lexer": "ipython2",
   "version": "2.7.12"
  }
 },
 "nbformat": 4,
 "nbformat_minor": 1
}

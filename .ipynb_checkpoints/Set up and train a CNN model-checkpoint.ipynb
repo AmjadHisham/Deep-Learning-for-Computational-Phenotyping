{
 "cells": [
  {
   "cell_type": "code",
   "execution_count": 2,
   "metadata": {
    "collapsed": true
   },
   "outputs": [],
   "source": [
    "import pandas as pd\n",
    "import numpy as np\n",
    "from gensim.models.word2vec import Word2Vec"
   ]
  },
  {
   "cell_type": "markdown",
   "metadata": {},
   "source": [
    "### Version 1: Fixed input embeddings from Word2Vec"
   ]
  },
  {
   "cell_type": "code",
   "execution_count": 3,
   "metadata": {
    "collapsed": true
   },
   "outputs": [],
   "source": [
    "control_data = pd.read_csv(\"./cleaned_data/control_w_time.csv\", index_col = 0)\n",
    "case_data = pd.read_csv(\"./cleaned_data/case_w_time.csv\", index_col = 0)\n",
    "word2vec_model = Word2Vec.load(\"./word2vec_model/w2vmodel_wt\")"
   ]
  },
  {
   "cell_type": "code",
   "execution_count": 13,
   "metadata": {},
   "outputs": [],
   "source": [
    "#construct an input list of arrays with embeddings for each patient\n",
    "control_temp = control_data.groupby(\"SUBJECT_ID\").apply(lambda x: x.EVE_INDEX.values)\n",
    "case_temp = control_data.groupby(\"SUBJECT_ID\").apply(lambda x: x.EVE_INDEX.values)"
   ]
  },
  {
   "cell_type": "code",
   "execution_count": 36,
   "metadata": {},
   "outputs": [],
   "source": [
    "control_patients = control_temp.index.values\n",
    "case_patients = case_temp.index.values\n",
    "all_patients = np.concatenate([control_patients,case_patients])"
   ]
  },
  {
   "cell_type": "code",
   "execution_count": 21,
   "metadata": {},
   "outputs": [],
   "source": [
    "#construct labels\n",
    "Y_control = np.zeros(len(control_patients))\n",
    "Y_case = np.ones(len(control_patients))\n",
    "Y = np.concatenate([Y_control,Y_case])"
   ]
  },
  {
   "cell_type": "code",
   "execution_count": 33,
   "metadata": {},
   "outputs": [],
   "source": [
    "#contruct training set in embeddings\n",
    "X = []\n",
    "for patient_events in control_temp:\n",
    "    events = [word2vec_model.wv[str(eve)] for eve in patient_events]\n",
    "    X.append(events)\n",
    "\n",
    "for patient_events in case_temp:\n",
    "    events = [word2vec_model.wv[str(eve)] for eve in patient_events]\n",
    "    X.append(events)"
   ]
  },
  {
   "cell_type": "code",
   "execution_count": 37,
   "metadata": {},
   "outputs": [],
   "source": [
    "#shuffle\n",
    "shuffled_index = np.random.permutation(len(all_patients))"
   ]
  },
  {
   "cell_type": "code",
   "execution_count": null,
   "metadata": {
    "collapsed": true
   },
   "outputs": [],
   "source": []
  }
 ],
 "metadata": {
  "kernelspec": {
   "display_name": "Python 2",
   "language": "python",
   "name": "python2"
  },
  "language_info": {
   "codemirror_mode": {
    "name": "ipython",
    "version": 2
   },
   "file_extension": ".py",
   "mimetype": "text/x-python",
   "name": "python",
   "nbconvert_exporter": "python",
   "pygments_lexer": "ipython2",
   "version": "2.7.12"
  }
 },
 "nbformat": 4,
 "nbformat_minor": 1
}

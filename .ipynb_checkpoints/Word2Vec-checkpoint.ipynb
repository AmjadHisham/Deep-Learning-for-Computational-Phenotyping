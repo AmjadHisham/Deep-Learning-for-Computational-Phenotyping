{
 "cells": [
  {
   "cell_type": "code",
   "execution_count": 26,
   "metadata": {
    "collapsed": true
   },
   "outputs": [],
   "source": [
    "import numpy as np\n",
    "import pandas as pd\n",
    "import matplotlib as plt\n",
    "%matplotlib inline"
   ]
  },
  {
   "cell_type": "code",
   "execution_count": 27,
   "metadata": {
    "collapsed": true
   },
   "outputs": [],
   "source": [
    "from gensim.models import word2vec"
   ]
  },
  {
   "cell_type": "markdown",
   "metadata": {},
   "source": [
    "### Train word2Vec model "
   ]
  },
  {
   "cell_type": "code",
   "execution_count": 28,
   "metadata": {
    "collapsed": true
   },
   "outputs": [],
   "source": [
    "corpus = pd.read_csv(\"./cleaned_data/all_events_data_w_time_mv.csv\", dtype = str)\n",
    "corpus_2 = pd.read_csv(\"./cleaned_data/all_events_data_w_time.csv\", dtype = str)"
   ]
  },
  {
   "cell_type": "code",
   "execution_count": 29,
   "metadata": {
    "collapsed": true
   },
   "outputs": [],
   "source": [
    "#transfrom it to sentences format\n",
    "a = corpus.groupby(\"SUBJECT_ID\").apply(lambda x: x.EVE_INDEX.tolist())"
   ]
  },
  {
   "cell_type": "code",
   "execution_count": 30,
   "metadata": {
    "collapsed": true
   },
   "outputs": [],
   "source": [
    "a_2 = corpus_2.groupby(\"SUBJECT_ID\").apply(lambda x: x.EVE_INDEX.tolist())"
   ]
  },
  {
   "cell_type": "code",
   "execution_count": 31,
   "metadata": {
    "collapsed": true
   },
   "outputs": [],
   "source": [
    "sentence_list = a.values.tolist()\n",
    "sentence_list2 = a_2.values.tolist()"
   ]
  },
  {
   "cell_type": "code",
   "execution_count": 32,
   "metadata": {
    "collapsed": true
   },
   "outputs": [],
   "source": [
    "import cPickle as pickle\n",
    "\n",
    "pickle.dump(sentence_list, open( \"w2vsentences_mv.p\", \"wb\" ))\n",
    "pickle.dump(sentence_list2, open( \"w2vsentences.p\", \"wb\" ))\n",
    "\n",
    "sentence_list = pickle.load(open( \"w2vsentences_mv.p\", \"rb\" ))\n",
    "sentence_list2 = pickle.load(open( \"w2vsentences.p\", \"rb\" ))"
   ]
  },
  {
   "cell_type": "code",
   "execution_count": 33,
   "metadata": {},
   "outputs": [],
   "source": [
    "model = word2vec.Word2Vec(sentence_list, size=100, window=20, min_count=1, workers=2,sg=1)"
   ]
  },
  {
   "cell_type": "code",
   "execution_count": 34,
   "metadata": {
    "collapsed": true
   },
   "outputs": [],
   "source": [
    "model.save(\"./word2vec_model/w2vmodel_mv_wt\")"
   ]
  },
  {
   "cell_type": "code",
   "execution_count": 35,
   "metadata": {
    "collapsed": true
   },
   "outputs": [],
   "source": [
    "model = word2vec.Word2Vec.load(\"./word2vec_model/w2vmodel_mv_wt\")"
   ]
  },
  {
   "cell_type": "code",
   "execution_count": 36,
   "metadata": {},
   "outputs": [
    {
     "data": {
      "text/plain": [
       "[('1690', 0.882364809513092),\n",
       " ('3174', 0.8637290000915527),\n",
       " ('3919', 0.8605045080184937),\n",
       " ('115', 0.8589322566986084),\n",
       " ('50', 0.8492733240127563),\n",
       " ('47', 0.8323983550071716),\n",
       " ('2785', 0.8234825134277344),\n",
       " ('3350', 0.8231036067008972),\n",
       " ('2432', 0.8222488164901733),\n",
       " ('2748', 0.8215205669403076)]"
      ]
     },
     "execution_count": 36,
     "metadata": {},
     "output_type": "execute_result"
    }
   ],
   "source": [
    "#10646 is very similar to 10648 and 10649 which are drugs all belong to triamcinolone acetonide familiy\n",
    "model.most_similar('4000')"
   ]
  },
  {
   "cell_type": "code",
   "execution_count": 22,
   "metadata": {
    "collapsed": true
   },
   "outputs": [],
   "source": [
    "model2 = word2vec.Word2Vec(sentence_list2, size=100, window=20, min_count=1, workers=4,sg=1)"
   ]
  },
  {
   "cell_type": "code",
   "execution_count": 23,
   "metadata": {
    "collapsed": true
   },
   "outputs": [],
   "source": [
    "model2.save(\"./word2vec_model/w2vmodel_wt\")"
   ]
  },
  {
   "cell_type": "code",
   "execution_count": 24,
   "metadata": {
    "collapsed": true
   },
   "outputs": [],
   "source": [
    "model2 = word2vec.Word2Vec.load(\"./word2vec_model/w2vmodel_wt\")"
   ]
  },
  {
   "cell_type": "code",
   "execution_count": 25,
   "metadata": {},
   "outputs": [
    {
     "data": {
      "text/plain": [
       "[('4383', 0.9814159274101257),\n",
       " ('7', 0.9350976943969727),\n",
       " ('4386', 0.9072484374046326),\n",
       " ('2160', 0.8926616907119751),\n",
       " ('2484', 0.8924636840820312),\n",
       " ('1551', 0.8657516837120056),\n",
       " ('4532', 0.8649441599845886),\n",
       " ('4771', 0.8564106225967407),\n",
       " ('2995', 0.8544859886169434),\n",
       " ('2147', 0.8523751497268677)]"
      ]
     },
     "execution_count": 25,
     "metadata": {},
     "output_type": "execute_result"
    }
   ],
   "source": [
    "model2.most_similar('4382')"
   ]
  },
  {
   "cell_type": "code",
   "execution_count": null,
   "metadata": {
    "collapsed": true
   },
   "outputs": [],
   "source": []
  }
 ],
 "metadata": {
  "anaconda-cloud": {},
  "kernelspec": {
   "display_name": "Python 2",
   "language": "python",
   "name": "python2"
  },
  "language_info": {
   "codemirror_mode": {
    "name": "ipython",
    "version": 2
   },
   "file_extension": ".py",
   "mimetype": "text/x-python",
   "name": "python",
   "nbconvert_exporter": "python",
   "pygments_lexer": "ipython2",
   "version": "2.7.12"
  }
 },
 "nbformat": 4,
 "nbformat_minor": 1
}

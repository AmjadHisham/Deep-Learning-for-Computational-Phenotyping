{
 "cells": [
  {
   "cell_type": "code",
   "execution_count": 2,
   "metadata": {},
   "outputs": [
    {
     "ename": "ImportError",
     "evalue": "No module named 'pandas'",
     "output_type": "error",
     "traceback": [
      "\u001b[0;31m---------------------------------------------------------------------------\u001b[0m",
      "\u001b[0;31mImportError\u001b[0m                               Traceback (most recent call last)",
      "\u001b[0;32m<ipython-input-2-b2520b7a17c4>\u001b[0m in \u001b[0;36m<module>\u001b[0;34m()\u001b[0m\n\u001b[0;32m----> 1\u001b[0;31m \u001b[0;32mimport\u001b[0m \u001b[0mpandas\u001b[0m \u001b[0;32mas\u001b[0m \u001b[0mpd\u001b[0m\u001b[0;34m\u001b[0m\u001b[0m\n\u001b[0m\u001b[1;32m      2\u001b[0m \u001b[0;32mimport\u001b[0m \u001b[0mnumpy\u001b[0m \u001b[0;32mas\u001b[0m \u001b[0mnp\u001b[0m\u001b[0;34m\u001b[0m\u001b[0m\n\u001b[1;32m      3\u001b[0m \u001b[0;32mimport\u001b[0m \u001b[0mmatplotlib\u001b[0m\u001b[0;34m.\u001b[0m\u001b[0mpyplot\u001b[0m \u001b[0;32mas\u001b[0m \u001b[0mplt\u001b[0m\u001b[0;34m\u001b[0m\u001b[0m\n\u001b[1;32m      4\u001b[0m \u001b[0mget_ipython\u001b[0m\u001b[0;34m(\u001b[0m\u001b[0;34m)\u001b[0m\u001b[0;34m.\u001b[0m\u001b[0mmagic\u001b[0m\u001b[0;34m(\u001b[0m\u001b[0;34m'matplotlib inline'\u001b[0m\u001b[0;34m)\u001b[0m\u001b[0;34m\u001b[0m\u001b[0m\n",
      "\u001b[0;31mImportError\u001b[0m: No module named 'pandas'"
     ]
    }
   ],
   "source": [
    "import pandas as pd\n",
    "import numpy as np\n",
    "import matplotlib.pyplot as plt\n",
    "%matplotlib inline"
   ]
  },
  {
   "cell_type": "markdown",
   "metadata": {},
   "source": [
    "# all_events_data_w_time "
   ]
  },
  {
   "cell_type": "code",
   "execution_count": 1,
   "metadata": {},
   "outputs": [
    {
     "ename": "NameError",
     "evalue": "name 'pd' is not defined",
     "output_type": "error",
     "traceback": [
      "\u001b[0;31m---------------------------------------------------------------------------\u001b[0m",
      "\u001b[0;31mNameError\u001b[0m                                 Traceback (most recent call last)",
      "\u001b[0;32m<ipython-input-1-11f77e87ac20>\u001b[0m in \u001b[0;36m<module>\u001b[0;34m()\u001b[0m\n\u001b[0;32m----> 1\u001b[0;31m \u001b[0mall_events\u001b[0m \u001b[0;34m=\u001b[0m \u001b[0mpd\u001b[0m\u001b[0;34m.\u001b[0m\u001b[0mread_csv\u001b[0m\u001b[0;34m(\u001b[0m\u001b[0;34m'./Cleaned data/all_events_data_w_time.csv'\u001b[0m\u001b[0;34m)\u001b[0m\u001b[0;34m\u001b[0m\u001b[0m\n\u001b[0m",
      "\u001b[0;31mNameError\u001b[0m: name 'pd' is not defined"
     ]
    }
   ],
   "source": [
    "all_events = pd.read_csv('./Cleaned data/all_events_data_w_time.csv')"
   ]
  },
  {
   "cell_type": "code",
   "execution_count": 194,
   "metadata": {},
   "outputs": [
    {
     "data": {
      "text/html": [
       "<div>\n",
       "<table border=\"1\" class=\"dataframe\">\n",
       "  <thead>\n",
       "    <tr style=\"text-align: right;\">\n",
       "      <th></th>\n",
       "      <th>Unnamed: 0</th>\n",
       "      <th>EVENTS</th>\n",
       "      <th>SUBJECT_ID</th>\n",
       "      <th>TIME</th>\n",
       "      <th>EVE_INDEX</th>\n",
       "    </tr>\n",
       "  </thead>\n",
       "  <tbody>\n",
       "    <tr>\n",
       "      <th>0</th>\n",
       "      <td>0</td>\n",
       "      <td>send 500mg vial</td>\n",
       "      <td>10</td>\n",
       "      <td>2103-06-28 00:00:00</td>\n",
       "      <td>11704</td>\n",
       "    </tr>\n",
       "    <tr>\n",
       "      <th>1</th>\n",
       "      <td>1</td>\n",
       "      <td>neo*iv*ampicillin sodium</td>\n",
       "      <td>10</td>\n",
       "      <td>2103-06-28 00:00:00</td>\n",
       "      <td>10945</td>\n",
       "    </tr>\n",
       "    <tr>\n",
       "      <th>2</th>\n",
       "      <td>2</td>\n",
       "      <td>V3000</td>\n",
       "      <td>10</td>\n",
       "      <td>2103-06-28 11:36:00</td>\n",
       "      <td>8341</td>\n",
       "    </tr>\n",
       "    <tr>\n",
       "      <th>3</th>\n",
       "      <td>3</td>\n",
       "      <td>7742</td>\n",
       "      <td>10</td>\n",
       "      <td>2103-06-28 11:36:00</td>\n",
       "      <td>5431</td>\n",
       "    </tr>\n",
       "    <tr>\n",
       "      <th>4</th>\n",
       "      <td>4</td>\n",
       "      <td>966</td>\n",
       "      <td>10</td>\n",
       "      <td>2103-06-28 11:36:00</td>\n",
       "      <td>7317</td>\n",
       "    </tr>\n",
       "  </tbody>\n",
       "</table>\n",
       "</div>"
      ],
      "text/plain": [
       "   Unnamed: 0                    EVENTS  SUBJECT_ID                 TIME  \\\n",
       "0           0           send 500mg vial          10  2103-06-28 00:00:00   \n",
       "1           1  neo*iv*ampicillin sodium          10  2103-06-28 00:00:00   \n",
       "2           2                     V3000          10  2103-06-28 11:36:00   \n",
       "3           3                      7742          10  2103-06-28 11:36:00   \n",
       "4           4                       966          10  2103-06-28 11:36:00   \n",
       "\n",
       "   EVE_INDEX  \n",
       "0      11704  \n",
       "1      10945  \n",
       "2       8341  \n",
       "3       5431  \n",
       "4       7317  "
      ]
     },
     "execution_count": 194,
     "metadata": {},
     "output_type": "execute_result"
    }
   ],
   "source": [
    "all_events.head()"
   ]
  },
  {
   "cell_type": "code",
   "execution_count": 195,
   "metadata": {},
   "outputs": [
    {
     "data": {
      "text/plain": [
       "(46518,)"
      ]
     },
     "execution_count": 195,
     "metadata": {},
     "output_type": "execute_result"
    }
   ],
   "source": [
    "np.unique(all_events.SUBJECT_ID).shape"
   ]
  },
  {
   "cell_type": "code",
   "execution_count": 244,
   "metadata": {
    "collapsed": true
   },
   "outputs": [],
   "source": [
    "# event counts of all ids\n",
    "\n",
    "all_count = all_events.groupby('SUBJECT_ID')['EVE_INDEX'].agg({'count':lambda x: len(x)})"
   ]
  },
  {
   "cell_type": "code",
   "execution_count": 245,
   "metadata": {},
   "outputs": [],
   "source": [
    "all_count.reset_index(inplace=True)"
   ]
  },
  {
   "cell_type": "code",
   "execution_count": 246,
   "metadata": {},
   "outputs": [
    {
     "data": {
      "text/html": [
       "<div>\n",
       "<table border=\"1\" class=\"dataframe\">\n",
       "  <thead>\n",
       "    <tr style=\"text-align: right;\">\n",
       "      <th></th>\n",
       "      <th>SUBJECT_ID</th>\n",
       "      <th>count</th>\n",
       "    </tr>\n",
       "  </thead>\n",
       "  <tbody>\n",
       "    <tr>\n",
       "      <th>0</th>\n",
       "      <td>2</td>\n",
       "      <td>8</td>\n",
       "    </tr>\n",
       "    <tr>\n",
       "      <th>1</th>\n",
       "      <td>3</td>\n",
       "      <td>15</td>\n",
       "    </tr>\n",
       "    <tr>\n",
       "      <th>2</th>\n",
       "      <td>4</td>\n",
       "      <td>77</td>\n",
       "    </tr>\n",
       "    <tr>\n",
       "      <th>3</th>\n",
       "      <td>5</td>\n",
       "      <td>4</td>\n",
       "    </tr>\n",
       "    <tr>\n",
       "      <th>4</th>\n",
       "      <td>6</td>\n",
       "      <td>176</td>\n",
       "    </tr>\n",
       "  </tbody>\n",
       "</table>\n",
       "</div>"
      ],
      "text/plain": [
       "   SUBJECT_ID  count\n",
       "0           2      8\n",
       "1           3     15\n",
       "2           4     77\n",
       "3           5      4\n",
       "4           6    176"
      ]
     },
     "execution_count": 246,
     "metadata": {},
     "output_type": "execute_result"
    }
   ],
   "source": [
    "all_count.head()"
   ]
  },
  {
   "cell_type": "code",
   "execution_count": 247,
   "metadata": {},
   "outputs": [],
   "source": [
    "# Control / Case group\n",
    "case_id = pd.unique(all_events.ix[all_events['EVENTS'].str[:3] == '428','SUBJECT_ID'])\n",
    "control_id =np.setdiff1d(np.unique(all_events['SUBJECT_ID'].values),case_id)"
   ]
  },
  {
   "cell_type": "markdown",
   "metadata": {},
   "source": [
    "### filter events "
   ]
  },
  {
   "cell_type": "code",
   "execution_count": 248,
   "metadata": {
    "collapsed": true
   },
   "outputs": [],
   "source": [
    "control = all_events.ix[np.in1d(all_events['SUBJECT_ID'],control_id),:]\n",
    "case = all_events.ix[np.in1d(all_events['SUBJECT_ID'],case_id),:]"
   ]
  },
  {
   "cell_type": "code",
   "execution_count": 249,
   "metadata": {},
   "outputs": [
    {
     "data": {
      "text/html": [
       "<div>\n",
       "<table border=\"1\" class=\"dataframe\">\n",
       "  <thead>\n",
       "    <tr style=\"text-align: right;\">\n",
       "      <th></th>\n",
       "      <th>Unnamed: 0</th>\n",
       "      <th>EVENTS</th>\n",
       "      <th>SUBJECT_ID</th>\n",
       "      <th>TIME</th>\n",
       "      <th>EVE_INDEX</th>\n",
       "    </tr>\n",
       "  </thead>\n",
       "  <tbody>\n",
       "    <tr>\n",
       "      <th>0</th>\n",
       "      <td>0</td>\n",
       "      <td>send 500mg vial</td>\n",
       "      <td>10</td>\n",
       "      <td>2103-06-28 00:00:00</td>\n",
       "      <td>11704</td>\n",
       "    </tr>\n",
       "    <tr>\n",
       "      <th>1</th>\n",
       "      <td>1</td>\n",
       "      <td>neo*iv*ampicillin sodium</td>\n",
       "      <td>10</td>\n",
       "      <td>2103-06-28 00:00:00</td>\n",
       "      <td>10945</td>\n",
       "    </tr>\n",
       "    <tr>\n",
       "      <th>2</th>\n",
       "      <td>2</td>\n",
       "      <td>V3000</td>\n",
       "      <td>10</td>\n",
       "      <td>2103-06-28 11:36:00</td>\n",
       "      <td>8341</td>\n",
       "    </tr>\n",
       "    <tr>\n",
       "      <th>3</th>\n",
       "      <td>3</td>\n",
       "      <td>7742</td>\n",
       "      <td>10</td>\n",
       "      <td>2103-06-28 11:36:00</td>\n",
       "      <td>5431</td>\n",
       "    </tr>\n",
       "    <tr>\n",
       "      <th>4</th>\n",
       "      <td>4</td>\n",
       "      <td>966</td>\n",
       "      <td>10</td>\n",
       "      <td>2103-06-28 11:36:00</td>\n",
       "      <td>7317</td>\n",
       "    </tr>\n",
       "  </tbody>\n",
       "</table>\n",
       "</div>"
      ],
      "text/plain": [
       "   Unnamed: 0                    EVENTS  SUBJECT_ID                 TIME  \\\n",
       "0           0           send 500mg vial          10  2103-06-28 00:00:00   \n",
       "1           1  neo*iv*ampicillin sodium          10  2103-06-28 00:00:00   \n",
       "2           2                     V3000          10  2103-06-28 11:36:00   \n",
       "3           3                      7742          10  2103-06-28 11:36:00   \n",
       "4           4                       966          10  2103-06-28 11:36:00   \n",
       "\n",
       "   EVE_INDEX  \n",
       "0      11704  \n",
       "1      10945  \n",
       "2       8341  \n",
       "3       5431  \n",
       "4       7317  "
      ]
     },
     "execution_count": 249,
     "metadata": {},
     "output_type": "execute_result"
    }
   ],
   "source": [
    "control.head()"
   ]
  },
  {
   "cell_type": "code",
   "execution_count": 250,
   "metadata": {},
   "outputs": [
    {
     "data": {
      "text/plain": [
       "(36309,)"
      ]
     },
     "execution_count": 250,
     "metadata": {},
     "output_type": "execute_result"
    }
   ],
   "source": [
    "np.unique(control.SUBJECT_ID).shape"
   ]
  },
  {
   "cell_type": "code",
   "execution_count": 251,
   "metadata": {},
   "outputs": [
    {
     "data": {
      "text/plain": [
       "(10209,)"
      ]
     },
     "execution_count": 251,
     "metadata": {},
     "output_type": "execute_result"
    }
   ],
   "source": [
    "np.unique(case.SUBJECT_ID).shape"
   ]
  },
  {
   "cell_type": "markdown",
   "metadata": {},
   "source": [
    "### index date control"
   ]
  },
  {
   "cell_type": "code",
   "execution_count": 252,
   "metadata": {},
   "outputs": [],
   "source": [
    "control_index_date = control.groupby(['SUBJECT_ID'], \\\n",
    "                    as_index=False)['TIME'].agg({'INDEX_DATE': lambda x: pd.to_datetime(x).max()})"
   ]
  },
  {
   "cell_type": "code",
   "execution_count": 253,
   "metadata": {
    "collapsed": true
   },
   "outputs": [],
   "source": [
    "control_filter = pd.merge(control,control_index_date,how='left',on = ['SUBJECT_ID'])"
   ]
  },
  {
   "cell_type": "code",
   "execution_count": 254,
   "metadata": {},
   "outputs": [
    {
     "data": {
      "text/html": [
       "<div>\n",
       "<table border=\"1\" class=\"dataframe\">\n",
       "  <thead>\n",
       "    <tr style=\"text-align: right;\">\n",
       "      <th></th>\n",
       "      <th>Unnamed: 0</th>\n",
       "      <th>EVENTS</th>\n",
       "      <th>SUBJECT_ID</th>\n",
       "      <th>TIME</th>\n",
       "      <th>EVE_INDEX</th>\n",
       "      <th>INDEX_DATE</th>\n",
       "    </tr>\n",
       "  </thead>\n",
       "  <tbody>\n",
       "    <tr>\n",
       "      <th>0</th>\n",
       "      <td>0</td>\n",
       "      <td>send 500mg vial</td>\n",
       "      <td>10</td>\n",
       "      <td>2103-06-28 00:00:00</td>\n",
       "      <td>11704</td>\n",
       "      <td>2103-07-06</td>\n",
       "    </tr>\n",
       "    <tr>\n",
       "      <th>1</th>\n",
       "      <td>1</td>\n",
       "      <td>neo*iv*ampicillin sodium</td>\n",
       "      <td>10</td>\n",
       "      <td>2103-06-28 00:00:00</td>\n",
       "      <td>10945</td>\n",
       "      <td>2103-07-06</td>\n",
       "    </tr>\n",
       "    <tr>\n",
       "      <th>2</th>\n",
       "      <td>2</td>\n",
       "      <td>V3000</td>\n",
       "      <td>10</td>\n",
       "      <td>2103-06-28 11:36:00</td>\n",
       "      <td>8341</td>\n",
       "      <td>2103-07-06</td>\n",
       "    </tr>\n",
       "    <tr>\n",
       "      <th>3</th>\n",
       "      <td>3</td>\n",
       "      <td>7742</td>\n",
       "      <td>10</td>\n",
       "      <td>2103-06-28 11:36:00</td>\n",
       "      <td>5431</td>\n",
       "      <td>2103-07-06</td>\n",
       "    </tr>\n",
       "    <tr>\n",
       "      <th>4</th>\n",
       "      <td>4</td>\n",
       "      <td>966</td>\n",
       "      <td>10</td>\n",
       "      <td>2103-06-28 11:36:00</td>\n",
       "      <td>7317</td>\n",
       "      <td>2103-07-06</td>\n",
       "    </tr>\n",
       "  </tbody>\n",
       "</table>\n",
       "</div>"
      ],
      "text/plain": [
       "   Unnamed: 0                    EVENTS  SUBJECT_ID                 TIME  \\\n",
       "0           0           send 500mg vial          10  2103-06-28 00:00:00   \n",
       "1           1  neo*iv*ampicillin sodium          10  2103-06-28 00:00:00   \n",
       "2           2                     V3000          10  2103-06-28 11:36:00   \n",
       "3           3                      7742          10  2103-06-28 11:36:00   \n",
       "4           4                       966          10  2103-06-28 11:36:00   \n",
       "\n",
       "   EVE_INDEX INDEX_DATE  \n",
       "0      11704 2103-07-06  \n",
       "1      10945 2103-07-06  \n",
       "2       8341 2103-07-06  \n",
       "3       5431 2103-07-06  \n",
       "4       7317 2103-07-06  "
      ]
     },
     "execution_count": 254,
     "metadata": {},
     "output_type": "execute_result"
    }
   ],
   "source": [
    "choice1 = pd.to_datetime(control_filter['TIME'])>= pd.to_datetime(control_filter['INDEX_DATE']) - pd.DateOffset(2000)\n",
    "choice2 = pd.to_datetime(control_filter['TIME']) <= pd.to_datetime(control_filter['INDEX_DATE'])\n",
    "control_filter = control_filter[choice1 & choice2]\n",
    "control_filter.head()    "
   ]
  },
  {
   "cell_type": "code",
   "execution_count": 256,
   "metadata": {},
   "outputs": [
    {
     "name": "stdout",
     "output_type": "stream",
     "text": [
      "(array([34560,  1449,   214,    48,    17,    16,     3,     1,     0,     1]), array([  1.00000000e+00,   2.90300000e+02,   5.79600000e+02,\n",
      "         8.68900000e+02,   1.15820000e+03,   1.44750000e+03,\n",
      "         1.73680000e+03,   2.02610000e+03,   2.31540000e+03,\n",
      "         2.60470000e+03,   2.89400000e+03]))\n",
      "93.60737007353549\n",
      "65.0\n",
      "115.12694667050104\n"
     ]
    },
    {
     "data": {
      "image/png": "[encoded data removed]",
      "text/plain": [
       "<matplotlib.figure.Figure at 0x124600320>"
      ]
     },
     "metadata": {},
     "output_type": "display_data"
    }
   ],
   "source": [
    "# control count\n",
    "count_control = control_filter.groupby('SUBJECT_ID').apply(lambda x: x.EVE_INDEX.size)\n",
    "count_control.hist(bins=100)\n",
    "print(np.histogram(count_control))\n",
    "print(np.mean(count_control)); print(np.median(count_control)); print(np.std(count_control))\n"
   ]
  },
  {
   "cell_type": "code",
   "execution_count": 257,
   "metadata": {
    "collapsed": true
   },
   "outputs": [],
   "source": [
    "# filter out control IDs with count >400 & count<30 ??\n",
    "control_filter =pd.merge(control_filter, all_count,on='SUBJECT_ID',how='left')\n",
    "control_filter = control_filter.ix[((control_filter['count']>30) & (control_filter['count']<400)),:]"
   ]
  },
  {
   "cell_type": "code",
   "execution_count": 258,
   "metadata": {},
   "outputs": [
    {
     "data": {
      "text/plain": [
       "(24632,)"
      ]
     },
     "execution_count": 258,
     "metadata": {},
     "output_type": "execute_result"
    }
   ],
   "source": [
    "np.unique(control_filter.SUBJECT_ID).shape"
   ]
  },
  {
   "cell_type": "code",
   "execution_count": 259,
   "metadata": {},
   "outputs": [
    {
     "data": {
      "text/html": [
       "<div>\n",
       "<table border=\"1\" class=\"dataframe\">\n",
       "  <thead>\n",
       "    <tr style=\"text-align: right;\">\n",
       "      <th></th>\n",
       "      <th>Unnamed: 0</th>\n",
       "      <th>EVENTS</th>\n",
       "      <th>SUBJECT_ID</th>\n",
       "      <th>TIME</th>\n",
       "      <th>EVE_INDEX</th>\n",
       "      <th>INDEX_DATE</th>\n",
       "      <th>count</th>\n",
       "    </tr>\n",
       "  </thead>\n",
       "  <tbody>\n",
       "    <tr>\n",
       "      <th>31</th>\n",
       "      <td>293</td>\n",
       "      <td>9904</td>\n",
       "      <td>10000</td>\n",
       "      <td>2186-08-10 21:57:00</td>\n",
       "      <td>7435</td>\n",
       "      <td>2186-08-30</td>\n",
       "      <td>145</td>\n",
       "    </tr>\n",
       "    <tr>\n",
       "      <th>32</th>\n",
       "      <td>294</td>\n",
       "      <td>9907</td>\n",
       "      <td>10000</td>\n",
       "      <td>2186-08-10 21:57:00</td>\n",
       "      <td>7438</td>\n",
       "      <td>2186-08-30</td>\n",
       "      <td>145</td>\n",
       "    </tr>\n",
       "    <tr>\n",
       "      <th>33</th>\n",
       "      <td>295</td>\n",
       "      <td>2766</td>\n",
       "      <td>10000</td>\n",
       "      <td>2186-08-10 21:57:00</td>\n",
       "      <td>1392</td>\n",
       "      <td>2186-08-30</td>\n",
       "      <td>145</td>\n",
       "    </tr>\n",
       "    <tr>\n",
       "      <th>34</th>\n",
       "      <td>296</td>\n",
       "      <td>5724</td>\n",
       "      <td>10000</td>\n",
       "      <td>2186-08-10 21:57:00</td>\n",
       "      <td>3841</td>\n",
       "      <td>2186-08-30</td>\n",
       "      <td>145</td>\n",
       "    </tr>\n",
       "    <tr>\n",
       "      <th>35</th>\n",
       "      <td>297</td>\n",
       "      <td>486</td>\n",
       "      <td>10000</td>\n",
       "      <td>2186-08-10 21:57:00</td>\n",
       "      <td>3262</td>\n",
       "      <td>2186-08-30</td>\n",
       "      <td>145</td>\n",
       "    </tr>\n",
       "  </tbody>\n",
       "</table>\n",
       "</div>"
      ],
      "text/plain": [
       "    Unnamed: 0 EVENTS  SUBJECT_ID                 TIME  EVE_INDEX INDEX_DATE  \\\n",
       "31         293   9904       10000  2186-08-10 21:57:00       7435 2186-08-30   \n",
       "32         294   9907       10000  2186-08-10 21:57:00       7438 2186-08-30   \n",
       "33         295   2766       10000  2186-08-10 21:57:00       1392 2186-08-30   \n",
       "34         296   5724       10000  2186-08-10 21:57:00       3841 2186-08-30   \n",
       "35         297    486       10000  2186-08-10 21:57:00       3262 2186-08-30   \n",
       "\n",
       "    count  \n",
       "31    145  \n",
       "32    145  \n",
       "33    145  \n",
       "34    145  \n",
       "35    145  "
      ]
     },
     "execution_count": 259,
     "metadata": {},
     "output_type": "execute_result"
    }
   ],
   "source": [
    "control_filter.head()"
   ]
  },
  {
   "cell_type": "markdown",
   "metadata": {},
   "source": [
    "### index date case"
   ]
  },
  {
   "cell_type": "code",
   "execution_count": 264,
   "metadata": {
    "collapsed": true
   },
   "outputs": [],
   "source": [
    "case_index_date = case.ix[case['EVENTS'].str[:3]=='428',:].groupby(['SUBJECT_ID'], \\\n",
    "                        as_index=False)['TIME'].agg({'INDEX_DATE': \\\n",
    "                        lambda x: pd.to_datetime(x).min()- pd.to_timedelta('90 days')})"
   ]
  },
  {
   "cell_type": "code",
   "execution_count": 265,
   "metadata": {},
   "outputs": [
    {
     "data": {
      "text/html": [
       "<div>\n",
       "<table border=\"1\" class=\"dataframe\">\n",
       "  <thead>\n",
       "    <tr style=\"text-align: right;\">\n",
       "      <th></th>\n",
       "      <th>SUBJECT_ID</th>\n",
       "      <th>INDEX_DATE</th>\n",
       "    </tr>\n",
       "  </thead>\n",
       "  <tbody>\n",
       "    <tr>\n",
       "      <th>0</th>\n",
       "      <td>3</td>\n",
       "      <td>2101-07-22 19:08:00</td>\n",
       "    </tr>\n",
       "    <tr>\n",
       "      <th>1</th>\n",
       "      <td>9</td>\n",
       "      <td>2149-08-11 13:06:00</td>\n",
       "    </tr>\n",
       "    <tr>\n",
       "      <th>2</th>\n",
       "      <td>21</td>\n",
       "      <td>2134-06-13 12:17:00</td>\n",
       "    </tr>\n",
       "    <tr>\n",
       "      <th>3</th>\n",
       "      <td>26</td>\n",
       "      <td>2126-02-05 15:16:00</td>\n",
       "    </tr>\n",
       "    <tr>\n",
       "      <th>4</th>\n",
       "      <td>30</td>\n",
       "      <td>2172-07-16 14:17:00</td>\n",
       "    </tr>\n",
       "  </tbody>\n",
       "</table>\n",
       "</div>"
      ],
      "text/plain": [
       "   SUBJECT_ID          INDEX_DATE\n",
       "0           3 2101-07-22 19:08:00\n",
       "1           9 2149-08-11 13:06:00\n",
       "2          21 2134-06-13 12:17:00\n",
       "3          26 2126-02-05 15:16:00\n",
       "4          30 2172-07-16 14:17:00"
      ]
     },
     "execution_count": 265,
     "metadata": {},
     "output_type": "execute_result"
    }
   ],
   "source": [
    "case_index_date.head()"
   ]
  },
  {
   "cell_type": "code",
   "execution_count": 266,
   "metadata": {
    "collapsed": true
   },
   "outputs": [],
   "source": [
    "case_filter = pd.merge(case,case_index_date,how='left',on = ['SUBJECT_ID'])"
   ]
  },
  {
   "cell_type": "code",
   "execution_count": 267,
   "metadata": {},
   "outputs": [
    {
     "data": {
      "text/html": [
       "<div>\n",
       "<table border=\"1\" class=\"dataframe\">\n",
       "  <thead>\n",
       "    <tr style=\"text-align: right;\">\n",
       "      <th></th>\n",
       "      <th>Unnamed: 0</th>\n",
       "      <th>EVENTS</th>\n",
       "      <th>SUBJECT_ID</th>\n",
       "      <th>TIME</th>\n",
       "      <th>EVE_INDEX</th>\n",
       "      <th>INDEX_DATE</th>\n",
       "    </tr>\n",
       "  </thead>\n",
       "  <tbody>\n",
       "    <tr>\n",
       "      <th>0</th>\n",
       "      <td>28</td>\n",
       "      <td>4280</td>\n",
       "      <td>1000</td>\n",
       "      <td>2144-01-19 20:15:00</td>\n",
       "      <td>2802</td>\n",
       "      <td>2143-10-21 20:15:00</td>\n",
       "    </tr>\n",
       "    <tr>\n",
       "      <th>1</th>\n",
       "      <td>29</td>\n",
       "      <td>4516</td>\n",
       "      <td>1000</td>\n",
       "      <td>2144-01-19 20:15:00</td>\n",
       "      <td>3023</td>\n",
       "      <td>2143-10-21 20:15:00</td>\n",
       "    </tr>\n",
       "    <tr>\n",
       "      <th>2</th>\n",
       "      <td>30</td>\n",
       "      <td>9604</td>\n",
       "      <td>1000</td>\n",
       "      <td>2144-01-19 20:15:00</td>\n",
       "      <td>7274</td>\n",
       "      <td>2143-10-21 20:15:00</td>\n",
       "    </tr>\n",
       "    <tr>\n",
       "      <th>3</th>\n",
       "      <td>31</td>\n",
       "      <td>78559</td>\n",
       "      <td>1000</td>\n",
       "      <td>2144-01-19 20:15:00</td>\n",
       "      <td>5596</td>\n",
       "      <td>2143-10-21 20:15:00</td>\n",
       "    </tr>\n",
       "    <tr>\n",
       "      <th>4</th>\n",
       "      <td>32</td>\n",
       "      <td>5789</td>\n",
       "      <td>1000</td>\n",
       "      <td>2144-01-19 20:15:00</td>\n",
       "      <td>3902</td>\n",
       "      <td>2143-10-21 20:15:00</td>\n",
       "    </tr>\n",
       "  </tbody>\n",
       "</table>\n",
       "</div>"
      ],
      "text/plain": [
       "   Unnamed: 0 EVENTS  SUBJECT_ID                 TIME  EVE_INDEX  \\\n",
       "0          28   4280        1000  2144-01-19 20:15:00       2802   \n",
       "1          29   4516        1000  2144-01-19 20:15:00       3023   \n",
       "2          30   9604        1000  2144-01-19 20:15:00       7274   \n",
       "3          31  78559        1000  2144-01-19 20:15:00       5596   \n",
       "4          32   5789        1000  2144-01-19 20:15:00       3902   \n",
       "\n",
       "           INDEX_DATE  \n",
       "0 2143-10-21 20:15:00  \n",
       "1 2143-10-21 20:15:00  \n",
       "2 2143-10-21 20:15:00  \n",
       "3 2143-10-21 20:15:00  \n",
       "4 2143-10-21 20:15:00  "
      ]
     },
     "execution_count": 267,
     "metadata": {},
     "output_type": "execute_result"
    }
   ],
   "source": [
    "case_filter.head()"
   ]
  },
  {
   "cell_type": "code",
   "execution_count": 268,
   "metadata": {},
   "outputs": [
    {
     "data": {
      "text/html": [
       "<div>\n",
       "<table border=\"1\" class=\"dataframe\">\n",
       "  <thead>\n",
       "    <tr style=\"text-align: right;\">\n",
       "      <th></th>\n",
       "      <th>Unnamed: 0</th>\n",
       "      <th>EVENTS</th>\n",
       "      <th>SUBJECT_ID</th>\n",
       "      <th>TIME</th>\n",
       "      <th>EVE_INDEX</th>\n",
       "      <th>INDEX_DATE</th>\n",
       "    </tr>\n",
       "  </thead>\n",
       "  <tbody>\n",
       "    <tr>\n",
       "      <th>6285</th>\n",
       "      <td>14568</td>\n",
       "      <td>3961</td>\n",
       "      <td>10168</td>\n",
       "      <td>2110-12-02 14:57:00</td>\n",
       "      <td>2585</td>\n",
       "      <td>2110-12-06 20:50:00</td>\n",
       "    </tr>\n",
       "    <tr>\n",
       "      <th>6286</th>\n",
       "      <td>14569</td>\n",
       "      <td>4111</td>\n",
       "      <td>10168</td>\n",
       "      <td>2110-12-02 14:57:00</td>\n",
       "      <td>2690</td>\n",
       "      <td>2110-12-06 20:50:00</td>\n",
       "    </tr>\n",
       "    <tr>\n",
       "      <th>6287</th>\n",
       "      <td>14570</td>\n",
       "      <td>42731</td>\n",
       "      <td>10168</td>\n",
       "      <td>2110-12-02 14:57:00</td>\n",
       "      <td>2791</td>\n",
       "      <td>2110-12-06 20:50:00</td>\n",
       "    </tr>\n",
       "    <tr>\n",
       "      <th>6288</th>\n",
       "      <td>14571</td>\n",
       "      <td>496</td>\n",
       "      <td>10168</td>\n",
       "      <td>2110-12-02 14:57:00</td>\n",
       "      <td>3315</td>\n",
       "      <td>2110-12-06 20:50:00</td>\n",
       "    </tr>\n",
       "    <tr>\n",
       "      <th>6289</th>\n",
       "      <td>14572</td>\n",
       "      <td>3723</td>\n",
       "      <td>10168</td>\n",
       "      <td>2110-12-02 14:57:00</td>\n",
       "      <td>2309</td>\n",
       "      <td>2110-12-06 20:50:00</td>\n",
       "    </tr>\n",
       "  </tbody>\n",
       "</table>\n",
       "</div>"
      ],
      "text/plain": [
       "      Unnamed: 0 EVENTS  SUBJECT_ID                 TIME  EVE_INDEX  \\\n",
       "6285       14568   3961       10168  2110-12-02 14:57:00       2585   \n",
       "6286       14569   4111       10168  2110-12-02 14:57:00       2690   \n",
       "6287       14570  42731       10168  2110-12-02 14:57:00       2791   \n",
       "6288       14571    496       10168  2110-12-02 14:57:00       3315   \n",
       "6289       14572   3723       10168  2110-12-02 14:57:00       2309   \n",
       "\n",
       "              INDEX_DATE  \n",
       "6285 2110-12-06 20:50:00  \n",
       "6286 2110-12-06 20:50:00  \n",
       "6287 2110-12-06 20:50:00  \n",
       "6288 2110-12-06 20:50:00  \n",
       "6289 2110-12-06 20:50:00  "
      ]
     },
     "execution_count": 268,
     "metadata": {},
     "output_type": "execute_result"
    }
   ],
   "source": [
    "choice1 = pd.to_datetime(case_filter['TIME'])>= pd.to_datetime(case_filter['INDEX_DATE']) - pd.DateOffset(2000)\n",
    "choice2 = pd.to_datetime(case_filter['TIME']) <= pd.to_datetime(case_filter['INDEX_DATE'])\n",
    "case_filter = case_filter[choice1 & choice2]\n",
    "case_filter.head()    "
   ]
  },
  {
   "cell_type": "code",
   "execution_count": 269,
   "metadata": {},
   "outputs": [
    {
     "name": "stdout",
     "output_type": "stream",
     "text": [
      "(array([733, 103,  26,   6,   1,   1,   1,   0,   0,   1]), array([  2.00000000e+00,   2.17200000e+02,   4.32400000e+02,\n",
      "         6.47600000e+02,   8.62800000e+02,   1.07800000e+03,\n",
      "         1.29320000e+03,   1.50840000e+03,   1.72360000e+03,\n",
      "         1.93880000e+03,   2.15400000e+03]))\n",
      "128.3612385321101\n",
      "86.5\n",
      "153.91301759041414\n"
     ]
    },
    {
     "data": {
      "image/png": "[encoded data removed]",
      "text/plain": [
       "<matplotlib.figure.Figure at 0x11fc95d68>"
      ]
     },
     "metadata": {},
     "output_type": "display_data"
    }
   ],
   "source": [
    "# case count\n",
    "count_case = case_filter.groupby('SUBJECT_ID').apply(lambda x: x.EVE_INDEX.size)\n",
    "count_case.hist(bins=100)\n",
    "print(np.histogram(count_case))\n",
    "print(np.mean(count_case)); print(np.median(count_case)); print(np.std(count_case))"
   ]
  },
  {
   "cell_type": "code",
   "execution_count": 270,
   "metadata": {
    "collapsed": true
   },
   "outputs": [],
   "source": [
    "# filter out <10 & > 1000???\n",
    "\n",
    "case_filter =pd.merge(case_filter, all_count,on='SUBJECT_ID',how='left')\n",
    "case_filter = case_filter.ix[((case_filter['count']>10) & (case_filter['count']<1000)),:]\n"
   ]
  },
  {
   "cell_type": "code",
   "execution_count": 271,
   "metadata": {},
   "outputs": [
    {
     "data": {
      "text/html": [
       "<div>\n",
       "<table border=\"1\" class=\"dataframe\">\n",
       "  <thead>\n",
       "    <tr style=\"text-align: right;\">\n",
       "      <th></th>\n",
       "      <th>Unnamed: 0</th>\n",
       "      <th>EVENTS</th>\n",
       "      <th>SUBJECT_ID</th>\n",
       "      <th>TIME</th>\n",
       "      <th>EVE_INDEX</th>\n",
       "      <th>INDEX_DATE</th>\n",
       "      <th>count</th>\n",
       "    </tr>\n",
       "  </thead>\n",
       "  <tbody>\n",
       "    <tr>\n",
       "      <th>0</th>\n",
       "      <td>14568</td>\n",
       "      <td>3961</td>\n",
       "      <td>10168</td>\n",
       "      <td>2110-12-02 14:57:00</td>\n",
       "      <td>2585</td>\n",
       "      <td>2110-12-06 20:50:00</td>\n",
       "      <td>50</td>\n",
       "    </tr>\n",
       "    <tr>\n",
       "      <th>1</th>\n",
       "      <td>14569</td>\n",
       "      <td>4111</td>\n",
       "      <td>10168</td>\n",
       "      <td>2110-12-02 14:57:00</td>\n",
       "      <td>2690</td>\n",
       "      <td>2110-12-06 20:50:00</td>\n",
       "      <td>50</td>\n",
       "    </tr>\n",
       "    <tr>\n",
       "      <th>2</th>\n",
       "      <td>14570</td>\n",
       "      <td>42731</td>\n",
       "      <td>10168</td>\n",
       "      <td>2110-12-02 14:57:00</td>\n",
       "      <td>2791</td>\n",
       "      <td>2110-12-06 20:50:00</td>\n",
       "      <td>50</td>\n",
       "    </tr>\n",
       "    <tr>\n",
       "      <th>3</th>\n",
       "      <td>14571</td>\n",
       "      <td>496</td>\n",
       "      <td>10168</td>\n",
       "      <td>2110-12-02 14:57:00</td>\n",
       "      <td>3315</td>\n",
       "      <td>2110-12-06 20:50:00</td>\n",
       "      <td>50</td>\n",
       "    </tr>\n",
       "    <tr>\n",
       "      <th>4</th>\n",
       "      <td>14572</td>\n",
       "      <td>3723</td>\n",
       "      <td>10168</td>\n",
       "      <td>2110-12-02 14:57:00</td>\n",
       "      <td>2309</td>\n",
       "      <td>2110-12-06 20:50:00</td>\n",
       "      <td>50</td>\n",
       "    </tr>\n",
       "  </tbody>\n",
       "</table>\n",
       "</div>"
      ],
      "text/plain": [
       "   Unnamed: 0 EVENTS  SUBJECT_ID                 TIME  EVE_INDEX  \\\n",
       "0       14568   3961       10168  2110-12-02 14:57:00       2585   \n",
       "1       14569   4111       10168  2110-12-02 14:57:00       2690   \n",
       "2       14570  42731       10168  2110-12-02 14:57:00       2791   \n",
       "3       14571    496       10168  2110-12-02 14:57:00       3315   \n",
       "4       14572   3723       10168  2110-12-02 14:57:00       2309   \n",
       "\n",
       "           INDEX_DATE  count  \n",
       "0 2110-12-06 20:50:00     50  \n",
       "1 2110-12-06 20:50:00     50  \n",
       "2 2110-12-06 20:50:00     50  \n",
       "3 2110-12-06 20:50:00     50  \n",
       "4 2110-12-06 20:50:00     50  "
      ]
     },
     "execution_count": 271,
     "metadata": {},
     "output_type": "execute_result"
    }
   ],
   "source": [
    "case_filter.head()"
   ]
  },
  {
   "cell_type": "code",
   "execution_count": 279,
   "metadata": {},
   "outputs": [
    {
     "data": {
      "text/plain": [
       "830"
      ]
     },
     "execution_count": 279,
     "metadata": {},
     "output_type": "execute_result"
    }
   ],
   "source": [
    "np.unique(case_filter.SUBJECT_ID).size"
   ]
  },
  {
   "cell_type": "code",
   "execution_count": 297,
   "metadata": {},
   "outputs": [
    {
     "data": {
      "text/plain": [
       "(96182, 7)"
      ]
     },
     "execution_count": 297,
     "metadata": {},
     "output_type": "execute_result"
    }
   ],
   "source": [
    "case_filter.shape"
   ]
  },
  {
   "cell_type": "markdown",
   "metadata": {},
   "source": [
    "## output "
   ]
  },
  {
   "cell_type": "code",
   "execution_count": 291,
   "metadata": {},
   "outputs": [],
   "source": [
    "# get sample from control\n",
    "np.random.seed(6250)\n",
    "sample_ids = np.random.choice(np.unique(control_filter.SUBJECT_ID),2*np.unique(case_filter.SUBJECT_ID).size,replace=False)"
   ]
  },
  {
   "cell_type": "code",
   "execution_count": 292,
   "metadata": {
    "collapsed": true
   },
   "outputs": [],
   "source": [
    "control_out = control_filter.ix[np.in1d(control_filter['SUBJECT_ID'],sample_ids),:]"
   ]
  },
  {
   "cell_type": "code",
   "execution_count": 293,
   "metadata": {},
   "outputs": [
    {
     "data": {
      "text/plain": [
       "1660"
      ]
     },
     "execution_count": 293,
     "metadata": {},
     "output_type": "execute_result"
    }
   ],
   "source": [
    "np.unique(control_out.SUBJECT_ID).size"
   ]
  },
  {
   "cell_type": "code",
   "execution_count": 294,
   "metadata": {},
   "outputs": [],
   "source": [
    "control_out.reset_index(inplace=True)"
   ]
  },
  {
   "cell_type": "code",
   "execution_count": 295,
   "metadata": {},
   "outputs": [],
   "source": [
    "control_out.ix[:,['SUBJECT_ID','TIME','EVE_INDEX']].to_csv('control_w_time.csv')"
   ]
  },
  {
   "cell_type": "code",
   "execution_count": 296,
   "metadata": {
    "collapsed": true
   },
   "outputs": [],
   "source": [
    "case_filter.ix[:,['SUBJECT_ID','TIME','EVE_INDEX']].to_csv('case_w_time.csv')"
   ]
  },
  {
   "cell_type": "code",
   "execution_count": null,
   "metadata": {
    "collapsed": true
   },
   "outputs": [],
   "source": []
  }
 ],
 "metadata": {
  "kernelspec": {
   "display_name": "Python [python3]",
   "language": "python",
   "name": "Python [python3]"
  },
  "language_info": {
   "codemirror_mode": {
    "name": "ipython",
    "version": 3
   },
   "file_extension": ".py",
   "mimetype": "text/x-python",
   "name": "python",
   "nbconvert_exporter": "python",
   "pygments_lexer": "ipython3",
   "version": "3.5.3"
  }
 },
 "nbformat": 4,
 "nbformat_minor": 2
}
